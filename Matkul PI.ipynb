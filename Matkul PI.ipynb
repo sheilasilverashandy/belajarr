{
  "nbformat": 4,
  "nbformat_minor": 0,
  "metadata": {
    "colab": {
      "provenance": []
    },
    "kernelspec": {
      "name": "python3",
      "display_name": "Python 3"
    },
    "language_info": {
      "name": "python"
    }
  },
  "cells": [
    {
      "cell_type": "markdown",
      "source": [
        "Pertemuan 2"
      ],
      "metadata": {
        "id": "qYgDt1oN1Izk"
      }
    },
    {
      "cell_type": "code",
      "source": [
        "nomor = 100\n",
        "print(nomor, type(nomor))"
      ],
      "metadata": {
        "colab": {
          "base_uri": "https://localhost:8080/"
        },
        "id": "IamL9WaS1Kkr",
        "outputId": "7f64614a-1c17-47ac-b7b8-022464e807d8"
      },
      "execution_count": null,
      "outputs": [
        {
          "output_type": "stream",
          "name": "stdout",
          "text": [
            "100 <class 'int'>\n"
          ]
        }
      ]
    },
    {
      "cell_type": "code",
      "source": [
        "maxlimit = 5 ** 1000\n",
        "print(maxlimit)"
      ],
      "metadata": {
        "colab": {
          "base_uri": "https://localhost:8080/"
        },
        "id": "FkCgsTcH1O0U",
        "outputId": "b22fb6d5-6e56-4f17-8274-dc6991dfc979"
      },
      "execution_count": null,
      "outputs": [
        {
          "output_type": "stream",
          "name": "stdout",
          "text": [
            "933263618503218878990089544723817169617091446371708024621714339795966910975775634454440327097881102359594989930324242624215487521354032394841520817203930756234410666138325150273995075985901831511100490796265113118240512514795933790805178271125415103810698378854426481119469814228660959222017662910442798456169448887147466528006328368452647429261829862165202793195289493607117850663668741065439805530718136320599844826041954101213229629869502194514609904214608668361244792952034826864617657926916047420065936389041737895822118365078045556628444273925387517127854796781556346403714877681766899855392069265439424008711973674701749862626690747296762535803929376233833981046927874558605253696441650390625\n"
          ]
        }
      ]
    },
    {
      "cell_type": "code",
      "source": [
        "desimal = 90.7\n",
        "print(desimal, type(desimal))"
      ],
      "metadata": {
        "colab": {
          "base_uri": "https://localhost:8080/"
        },
        "id": "cXNII24N1fK7",
        "outputId": "e2a4cb2f-5fec-41ce-c23c-46a15756cd23"
      },
      "execution_count": null,
      "outputs": [
        {
          "output_type": "stream",
          "name": "stdout",
          "text": [
            "90.7 <class 'float'>\n"
          ]
        }
      ]
    },
    {
      "cell_type": "code",
      "source": [
        "w = float(50)\n",
        "print(w)"
      ],
      "metadata": {
        "colab": {
          "base_uri": "https://localhost:8080/"
        },
        "id": "YAmzjfQ21jRd",
        "outputId": "1cf5f87c-6d12-4e53-b958-a31884668891"
      },
      "execution_count": null,
      "outputs": [
        {
          "output_type": "stream",
          "name": "stdout",
          "text": [
            "50.0\n"
          ]
        }
      ]
    },
    {
      "cell_type": "code",
      "source": [
        "komplek = 5+4j\n",
        "print(komplek, type(komplek))"
      ],
      "metadata": {
        "colab": {
          "base_uri": "https://localhost:8080/"
        },
        "id": "_b8wuHe-1kcz",
        "outputId": "00638b20-84b4-4105-b9b9-8bc4f84d9d63"
      },
      "execution_count": null,
      "outputs": [
        {
          "output_type": "stream",
          "name": "stdout",
          "text": [
            "(5+4j) <class 'complex'>\n"
          ]
        }
      ]
    },
    {
      "cell_type": "code",
      "source": [
        "profil = 'saya mahasiswa unila'\n",
        "print(profil, type(profil))"
      ],
      "metadata": {
        "colab": {
          "base_uri": "https://localhost:8080/"
        },
        "id": "6K1i6V2E1nvQ",
        "outputId": "6c5f261a-7ab6-4d86-8415-0413a19b6e53"
      },
      "execution_count": null,
      "outputs": [
        {
          "output_type": "stream",
          "name": "stdout",
          "text": [
            "saya mahasiswa unila <class 'str'>\n"
          ]
        }
      ]
    },
    {
      "cell_type": "code",
      "source": [
        "profil2 = \"saya mahasiswa unila\"\n",
        "print(profil2)"
      ],
      "metadata": {
        "colab": {
          "base_uri": "https://localhost:8080/"
        },
        "id": "GNr9IyFX1sX4",
        "outputId": "119475bc-a2ec-4b15-d274-d269c5ca3448"
      },
      "execution_count": null,
      "outputs": [
        {
          "output_type": "stream",
          "name": "stdout",
          "text": [
            "saya mahasiswa unila\n"
          ]
        }
      ]
    },
    {
      "cell_type": "code",
      "source": [
        "unila = \"\"\"saya mahasiswa unila\n",
        "yang berkuliah di\n",
        "jurusan ilmu komputer\"\"\"\n",
        "print(unila)"
      ],
      "metadata": {
        "colab": {
          "base_uri": "https://localhost:8080/"
        },
        "id": "vRIu0qws1yOc",
        "outputId": "4f5273a7-ec01-4c0d-97fa-2db3d6547400"
      },
      "execution_count": null,
      "outputs": [
        {
          "output_type": "stream",
          "name": "stdout",
          "text": [
            "saya mahasiswa unila\n",
            "yang berkuliah di\n",
            "jurusan ilmu komputer\n"
          ]
        }
      ]
    },
    {
      "cell_type": "code",
      "source": [
        "pertanyaan = False\n",
        "print(pertanyaan)"
      ],
      "metadata": {
        "colab": {
          "base_uri": "https://localhost:8080/"
        },
        "id": "9pkMCGho12Su",
        "outputId": "731db639-735b-47e8-f18f-468c5125b855"
      },
      "execution_count": null,
      "outputs": [
        {
          "output_type": "stream",
          "name": "stdout",
          "text": [
            "False\n"
          ]
        }
      ]
    },
    {
      "cell_type": "code",
      "source": [
        "print(100>50)"
      ],
      "metadata": {
        "colab": {
          "base_uri": "https://localhost:8080/"
        },
        "id": "Pozo6_iC13Qb",
        "outputId": "bf415d95-f04c-403e-d52d-969dd9636f2c"
      },
      "execution_count": null,
      "outputs": [
        {
          "output_type": "stream",
          "name": "stdout",
          "text": [
            "True\n"
          ]
        }
      ]
    },
    {
      "cell_type": "markdown",
      "source": [
        "Pertemuan 3"
      ],
      "metadata": {
        "id": "qCh3jEOy19i7"
      }
    },
    {
      "cell_type": "code",
      "source": [
        "print(\"bandar lampung\")"
      ],
      "metadata": {
        "colab": {
          "base_uri": "https://localhost:8080/"
        },
        "id": "6HZGqcR31_hw",
        "outputId": "54b299d9-d379-4868-e560-ae2aa7f63f8d"
      },
      "execution_count": null,
      "outputs": [
        {
          "output_type": "stream",
          "name": "stdout",
          "text": [
            "bandar lampung\n"
          ]
        }
      ]
    },
    {
      "cell_type": "code",
      "source": [
        "wadah = \"bandar lampung\"\n",
        "print(\"kota\", wadah)"
      ],
      "metadata": {
        "colab": {
          "base_uri": "https://localhost:8080/"
        },
        "id": "OQm7Rqpe2VtP",
        "outputId": "289ed628-0c98-4f4c-e058-392dc475c892"
      },
      "execution_count": null,
      "outputs": [
        {
          "output_type": "stream",
          "name": "stdout",
          "text": [
            "kota bandar lampung\n"
          ]
        }
      ]
    },
    {
      "cell_type": "code",
      "source": [
        "print(\"kota %s\" %(wadah))"
      ],
      "metadata": {
        "colab": {
          "base_uri": "https://localhost:8080/"
        },
        "id": "5_clmHEQ2Yx8",
        "outputId": "69742d9b-b0fb-4cdf-d79a-93cca70a13c5"
      },
      "execution_count": null,
      "outputs": [
        {
          "output_type": "stream",
          "name": "stdout",
          "text": [
            "kota bandar lampung\n"
          ]
        }
      ]
    },
    {
      "cell_type": "code",
      "source": [
        "tahun = 2023\n",
        "print(\"sekarang tahun %d\" %(tahun))"
      ],
      "metadata": {
        "colab": {
          "base_uri": "https://localhost:8080/"
        },
        "id": "cHHrS8By2Y-V",
        "outputId": "0ce66934-9bc5-4661-a8ab-298debba6a32"
      },
      "execution_count": null,
      "outputs": [
        {
          "output_type": "stream",
          "name": "stdout",
          "text": [
            "sekarang tahun 2023\n"
          ]
        }
      ]
    },
    {
      "cell_type": "code",
      "source": [
        "batre = 25\n",
        "print(\"batre saya sekarang %.0f\" % (batre))"
      ],
      "metadata": {
        "colab": {
          "base_uri": "https://localhost:8080/"
        },
        "id": "dKPRZxUG2g2r",
        "outputId": "0b79766d-1e65-465b-a563-c369963d5696"
      },
      "execution_count": null,
      "outputs": [
        {
          "output_type": "stream",
          "name": "stdout",
          "text": [
            "batre saya sekarang 25\n"
          ]
        }
      ]
    },
    {
      "cell_type": "code",
      "source": [
        "print(\"%X hexa\" % (50))"
      ],
      "metadata": {
        "colab": {
          "base_uri": "https://localhost:8080/"
        },
        "id": "0jZ7ZoLK2mG9",
        "outputId": "da765453-7c16-415a-c0eb-8e8b16f1a724"
      },
      "execution_count": null,
      "outputs": [
        {
          "output_type": "stream",
          "name": "stdout",
          "text": [
            "32 hexa\n"
          ]
        }
      ]
    },
    {
      "cell_type": "code",
      "source": [
        "print(\"kota {0} {1}\".format(wadah, \"keren\"))"
      ],
      "metadata": {
        "colab": {
          "base_uri": "https://localhost:8080/"
        },
        "id": "Q97Y0omX2pQD",
        "outputId": "8267315f-4637-4ed9-dd5a-5010e012d27b"
      },
      "execution_count": null,
      "outputs": [
        {
          "output_type": "stream",
          "name": "stdout",
          "text": [
            "kota bandar lampung keren\n"
          ]
        }
      ]
    },
    {
      "cell_type": "code",
      "source": [
        "skor = input(\"masukan skor anda: \")"
      ],
      "metadata": {
        "colab": {
          "base_uri": "https://localhost:8080/"
        },
        "id": "aVAmM4Z42sVL",
        "outputId": "7291d9b3-c63b-4e9e-f00f-518cccf84545"
      },
      "execution_count": null,
      "outputs": [
        {
          "name": "stdout",
          "output_type": "stream",
          "text": [
            "masukan skor anda: 123\n"
          ]
        }
      ]
    },
    {
      "cell_type": "code",
      "source": [
        "print((int(skor))+20)"
      ],
      "metadata": {
        "colab": {
          "base_uri": "https://localhost:8080/"
        },
        "id": "k4VlH06e21wJ",
        "outputId": "372e064c-1ab6-4282-ec10-5895c5678797"
      },
      "execution_count": null,
      "outputs": [
        {
          "output_type": "stream",
          "name": "stdout",
          "text": [
            "143\n"
          ]
        }
      ]
    },
    {
      "cell_type": "markdown",
      "source": [
        "Pertemuan 4"
      ],
      "metadata": {
        "id": "nBZ74OSu28HM"
      }
    },
    {
      "cell_type": "code",
      "source": [
        "kata = \"UniVERrstaS LAMpung\"\n",
        "print(kata.upper())"
      ],
      "metadata": {
        "colab": {
          "base_uri": "https://localhost:8080/"
        },
        "id": "1E16UxFG2_tB",
        "outputId": "9b6842b9-79a9-40e8-a135-d0cdfdf55c9f"
      },
      "execution_count": null,
      "outputs": [
        {
          "output_type": "stream",
          "name": "stdout",
          "text": [
            "UNIVERRSTAS LAMPUNG\n"
          ]
        }
      ]
    },
    {
      "cell_type": "code",
      "source": [
        "buah = [\"apel\", \"jeruk\", \"pepaya\", \"mangga\"]"
      ],
      "metadata": {
        "id": "0lAjj5VF3I2i"
      },
      "execution_count": null,
      "outputs": []
    },
    {
      "cell_type": "code",
      "source": [
        "cari_buah = input(\"masukan nama buah: \")"
      ],
      "metadata": {
        "colab": {
          "base_uri": "https://localhost:8080/"
        },
        "id": "BPOwYlwc3LrW",
        "outputId": "58179e6d-0091-4091-c176-f40918b1b3f2"
      },
      "execution_count": null,
      "outputs": [
        {
          "name": "stdout",
          "output_type": "stream",
          "text": [
            "masukan nama buah: apel\n"
          ]
        }
      ]
    },
    {
      "cell_type": "code",
      "source": [
        "print(cari_buah)"
      ],
      "metadata": {
        "colab": {
          "base_uri": "https://localhost:8080/"
        },
        "id": "AKZ3c5Gj3R6f",
        "outputId": "83e82875-b49e-4bc9-ff4b-e9388dca3506"
      },
      "execution_count": null,
      "outputs": [
        {
          "output_type": "stream",
          "name": "stdout",
          "text": [
            "apel\n"
          ]
        }
      ]
    },
    {
      "cell_type": "code",
      "source": [
        "if cari_buah.rstrip('bukan') in buah:\n",
        "  print(\"buahnya ready bos\")\n",
        "else:\n",
        "  print(\"buahnya kosong\")"
      ],
      "metadata": {
        "colab": {
          "base_uri": "https://localhost:8080/"
        },
        "id": "VCZBgW9g3YUo",
        "outputId": "6a642432-20aa-4777-c438-8d3e08caaae2"
      },
      "execution_count": null,
      "outputs": [
        {
          "output_type": "stream",
          "name": "stdout",
          "text": [
            "buahnya ready bos\n"
          ]
        }
      ]
    },
    {
      "cell_type": "code",
      "source": [
        "cek_kata = \"universitas lampung\"\n",
        "print(cek_kata.startswith('universitasksnfkef'))"
      ],
      "metadata": {
        "colab": {
          "base_uri": "https://localhost:8080/"
        },
        "id": "-jmI4vwG3b7O",
        "outputId": "1a48834e-3584-4b04-c2cb-a4eae25dcd03"
      },
      "execution_count": null,
      "outputs": [
        {
          "output_type": "stream",
          "name": "stdout",
          "text": [
            "False\n"
          ]
        }
      ]
    },
    {
      "cell_type": "code",
      "source": [
        "cetak_kata = \"saya$cinta$unila\".split('$')"
      ],
      "metadata": {
        "id": "sQSrXoEK3gD3"
      },
      "execution_count": null,
      "outputs": []
    },
    {
      "cell_type": "code",
      "source": [
        "print(cetak_kata)"
      ],
      "metadata": {
        "colab": {
          "base_uri": "https://localhost:8080/"
        },
        "id": "nfgWOpYH3jcZ",
        "outputId": "3bb596e0-684a-4d2b-e6fd-0ecd9a142c94"
      },
      "execution_count": null,
      "outputs": [
        {
          "output_type": "stream",
          "name": "stdout",
          "text": [
            "['saya', 'cinta', 'unila']\n"
          ]
        }
      ]
    },
    {
      "cell_type": "code",
      "source": [
        "print(cetak_kata[1])"
      ],
      "metadata": {
        "colab": {
          "base_uri": "https://localhost:8080/"
        },
        "id": "vhKGXPNO3xjh",
        "outputId": "ee53cd1a-f2c4-4dd6-f569-0b4a1c789b18"
      },
      "execution_count": null,
      "outputs": [
        {
          "output_type": "stream",
          "name": "stdout",
          "text": [
            "cinta\n"
          ]
        }
      ]
    },
    {
      "cell_type": "code",
      "source": [
        "print('8'.join(cetak_kata))"
      ],
      "metadata": {
        "colab": {
          "base_uri": "https://localhost:8080/"
        },
        "id": "xGMAHE7Y33LM",
        "outputId": "e05994d8-16b9-4e3b-a7a9-d32ca0c35cea"
      },
      "execution_count": null,
      "outputs": [
        {
          "output_type": "stream",
          "name": "stdout",
          "text": [
            "saya8cinta8unila\n"
          ]
        }
      ]
    },
    {
      "cell_type": "code",
      "source": [
        "kataulang = \"kaki ku luka kenapa ya kaki ku bisa luka ada yang tahu kenapa kaki ku luka ?\""
      ],
      "metadata": {
        "id": "b1VPnt__39I1"
      },
      "execution_count": null,
      "outputs": []
    },
    {
      "cell_type": "code",
      "source": [
        "print(kataulang.replace(\"kaki\", \"kepala\", 2))"
      ],
      "metadata": {
        "colab": {
          "base_uri": "https://localhost:8080/"
        },
        "id": "GcMKIxfD4DS4",
        "outputId": "40d695ce-91fe-4eb0-ee86-de79c9e5b6fe"
      },
      "execution_count": null,
      "outputs": [
        {
          "output_type": "stream",
          "name": "stdout",
          "text": [
            "kepala ku luka kenapa ya kepala ku bisa luka ada yang tahu kenapa kaki ku luka ?\n"
          ]
        }
      ]
    },
    {
      "cell_type": "code",
      "source": [
        "cek = \"rAmbutan\"\n",
        "print(cek.istitle())"
      ],
      "metadata": {
        "colab": {
          "base_uri": "https://localhost:8080/"
        },
        "id": "SwbVmalt4HX0",
        "outputId": "b38f9430-c451-4902-9a53-fbc7972f74a3"
      },
      "execution_count": null,
      "outputs": [
        {
          "output_type": "stream",
          "name": "stdout",
          "text": [
            "False\n"
          ]
        }
      ]
    },
    {
      "cell_type": "code",
      "source": [
        "print(\"40\".zfill(1))"
      ],
      "metadata": {
        "colab": {
          "base_uri": "https://localhost:8080/"
        },
        "id": "IVBDTF1V4Lag",
        "outputId": "bb4a5b1b-e47e-423a-c24f-4243d1d98a76"
      },
      "execution_count": null,
      "outputs": [
        {
          "output_type": "stream",
          "name": "stdout",
          "text": [
            "40\n"
          ]
        }
      ]
    },
    {
      "cell_type": "code",
      "source": [
        "cetak = \"unila\"\n",
        "print(cetak.center(20))"
      ],
      "metadata": {
        "colab": {
          "base_uri": "https://localhost:8080/"
        },
        "id": "MpTaWzqm4O3F",
        "outputId": "39ac0c35-3cd8-431a-a6f8-f7b741fd37d3"
      },
      "execution_count": null,
      "outputs": [
        {
          "output_type": "stream",
          "name": "stdout",
          "text": [
            "       unila        \n"
          ]
        }
      ]
    },
    {
      "cell_type": "code",
      "source": [
        "print(r\"ini petik 2 \\\"\")"
      ],
      "metadata": {
        "colab": {
          "base_uri": "https://localhost:8080/"
        },
        "id": "Lp4ItadE4SF9",
        "outputId": "cdab686c-cbe8-439e-d2f0-99adc7de9193"
      },
      "execution_count": null,
      "outputs": [
        {
          "output_type": "stream",
          "name": "stdout",
          "text": [
            "ini petik 2 \\\"\n"
          ]
        }
      ]
    },
    {
      "cell_type": "markdown",
      "source": [
        "Pertemuan 5"
      ],
      "metadata": {
        "id": "sS2tWmS74ffY"
      }
    },
    {
      "cell_type": "code",
      "source": [
        "usia = 15"
      ],
      "metadata": {
        "id": "qSQY1Gkf4hED"
      },
      "execution_count": null,
      "outputs": []
    },
    {
      "cell_type": "code",
      "source": [
        "if usia:\n",
        "  print('berhasil tercetak')\n",
        "  print('usia saya:', usia)"
      ],
      "metadata": {
        "colab": {
          "base_uri": "https://localhost:8080/"
        },
        "id": "mnHHxpTU4lNU",
        "outputId": "d0c4e9ee-452a-4bc4-d532-cd5ca1e38ba3"
      },
      "execution_count": null,
      "outputs": [
        {
          "output_type": "stream",
          "name": "stdout",
          "text": [
            "berhasil tercetak\n",
            "usia saya: 15\n"
          ]
        }
      ]
    },
    {
      "cell_type": "code",
      "source": [
        "if usia == 20:\n",
        "  print('berhasil tercetak')\n",
        "  print('usia saya:', usia)\n",
        "else:\n",
        "  print(\"salah\")"
      ],
      "metadata": {
        "colab": {
          "base_uri": "https://localhost:8080/"
        },
        "id": "1Is57zHk4n8o",
        "outputId": "b8433e8d-d218-4145-ac3f-c9e684b66e2f"
      },
      "execution_count": null,
      "outputs": [
        {
          "output_type": "stream",
          "name": "stdout",
          "text": [
            "salah\n"
          ]
        }
      ]
    },
    {
      "cell_type": "code",
      "source": [
        "if usia > 15:\n",
        "  print('usia diatas 15 tahun')\n",
        "elif 10 < usia < 15:\n",
        "  print('usia diatas 10 th tetapi dibawah 15 th')\n",
        "elif 10 < usia < 15:\n",
        "  print('HAHAHAHAHAHAHA')\n",
        "else:\n",
        "  print(\"salah\")"
      ],
      "metadata": {
        "colab": {
          "base_uri": "https://localhost:8080/"
        },
        "id": "ZNeF9Rw-4r41",
        "outputId": "aa740742-ec68-4d63-e7c1-466dafd53e08"
      },
      "execution_count": null,
      "outputs": [
        {
          "output_type": "stream",
          "name": "stdout",
          "text": [
            "salah\n"
          ]
        }
      ]
    },
    {
      "cell_type": "code",
      "source": [
        "usia = 9\n",
        "if usia:\n",
        "  if usia < 20:\n",
        "    if usia == 13:\n",
        "      print('berhasil tercetak')\n",
        "    else:\n",
        "      print('berhasil tercetak hahaahahaha')"
      ],
      "metadata": {
        "colab": {
          "base_uri": "https://localhost:8080/"
        },
        "id": "fS3Jzofw4vhl",
        "outputId": "6625de06-1316-4a64-d468-51080c4b1036"
      },
      "execution_count": null,
      "outputs": [
        {
          "output_type": "stream",
          "name": "stdout",
          "text": [
            "berhasil tercetak hahaahahaha\n"
          ]
        }
      ]
    },
    {
      "cell_type": "code",
      "source": [
        "#cara ke 1\n",
        "input_bil = int(input(\"masukan bilangan: \"))\n",
        "hasil = \"bilangan genap\" if input_bil % 2 == 0 else \"bilangan ganjil\"\n",
        "print(hasil)"
      ],
      "metadata": {
        "colab": {
          "base_uri": "https://localhost:8080/"
        },
        "id": "YhUV50QM4zLC",
        "outputId": "26a3dbfe-37ec-4366-b4e2-cacdfad63ede"
      },
      "execution_count": null,
      "outputs": [
        {
          "output_type": "stream",
          "name": "stdout",
          "text": [
            "masukan bilangan: 12\n",
            "bilangan genap\n"
          ]
        }
      ]
    },
    {
      "cell_type": "code",
      "source": [
        "#cara ke 2\n",
        "input_bil = int(input(\"masukan bilangan: \"))\n",
        "hasil = (\"ganjil\", \"genap\")[input_bil % 2 == 0]\n",
        "print(\"bilangan\", hasil)"
      ],
      "metadata": {
        "colab": {
          "base_uri": "https://localhost:8080/"
        },
        "id": "jgOlRlsZ49Vj",
        "outputId": "410ba37b-e6d4-4941-ecb4-003eef999eb1"
      },
      "execution_count": null,
      "outputs": [
        {
          "output_type": "stream",
          "name": "stdout",
          "text": [
            "masukan bilangan: 6\n",
            "bilangan genap\n"
          ]
        }
      ]
    },
    {
      "cell_type": "code",
      "source": [
        "#cara ke 3\n",
        "input_bil = int(input(\"masukan bilangan: \"))\n",
        "hasil = (\"bilangan positif\" if input_bil > 0 else \"enol\" if input_bil == 0 else \"bilangan negatif\")\n",
        "print(hasil)"
      ],
      "metadata": {
        "colab": {
          "base_uri": "https://localhost:8080/"
        },
        "id": "3W0oSGbJ5B_K",
        "outputId": "82580f2e-fe35-4266-8715-686cbb8b5695"
      },
      "execution_count": null,
      "outputs": [
        {
          "output_type": "stream",
          "name": "stdout",
          "text": [
            "masukan bilangan: 3\n",
            "bilangan positif\n"
          ]
        }
      ]
    },
    {
      "cell_type": "code",
      "source": [
        "angka = [1,2,3]\n",
        "input_bil = int(input(\"masukan bilangan: \"))\n",
        "if input_bil == angka[0]:\n",
        "  print(\"satu\")\n",
        "elif input_bil == angka[1]:\n",
        "  print(\"dua\")\n",
        "elif input_bil == angka[2]:\n",
        "  print(\"tiga\")"
      ],
      "metadata": {
        "colab": {
          "base_uri": "https://localhost:8080/"
        },
        "id": "zygsbsTQ5GC4",
        "outputId": "e50374d2-0733-42fe-8e36-0ed50a35bde0"
      },
      "execution_count": null,
      "outputs": [
        {
          "output_type": "stream",
          "name": "stdout",
          "text": [
            "masukan bilangan: 1\n",
            "satu\n"
          ]
        }
      ]
    },
    {
      "cell_type": "code",
      "source": [
        "angka = [1,2,3]\n",
        "input_bil = int(input(\"masukan bilangan: \"))\n",
        "hasil = (\"satu\" if input_bil == angka[0] else \"dua\" if input_bil == angka[1] else \"tiga\" if input_bil == angka[2] else \"gatau\")\n",
        "print(hasil)"
      ],
      "metadata": {
        "colab": {
          "base_uri": "https://localhost:8080/"
        },
        "id": "PsEp4Y4e5MVP",
        "outputId": "908c1b62-3396-438a-9a40-9396c4de292e"
      },
      "execution_count": null,
      "outputs": [
        {
          "output_type": "stream",
          "name": "stdout",
          "text": [
            "masukan bilangan: 4\n",
            "gatau\n"
          ]
        }
      ]
    },
    {
      "cell_type": "code",
      "source": [
        "angka = [1,2,3]\n",
        "input_bil = int(input(\"masukan bilangan: \"))\n",
        "hasil = (\"satu\" if input_bil == angka[0] else \\\n",
        "         \"dua\" if input_bil == angka[1] else\\\n",
        "         \"tiga\" if input_bil == angka[2] else\\\n",
        "         \"gatau\")\n",
        "print(hasil)"
      ],
      "metadata": {
        "colab": {
          "base_uri": "https://localhost:8080/"
        },
        "id": "IkM_9i4a5YZP",
        "outputId": "ec35ea9b-fd52-44b7-ab0e-a99ead425b43"
      },
      "execution_count": null,
      "outputs": [
        {
          "output_type": "stream",
          "name": "stdout",
          "text": [
            "masukan bilangan: 4\n",
            "gatau\n"
          ]
        }
      ]
    },
    {
      "cell_type": "code",
      "source": [
        "buah = [\"apel\", \"mangga\", \"pisang\"]\n",
        "for keranjang in buah:\n",
        "  print(\"buah\", keranjang)"
      ],
      "metadata": {
        "colab": {
          "base_uri": "https://localhost:8080/"
        },
        "id": "zBZYvEox5Z6G",
        "outputId": "e7c6e7c7-05f4-4e03-8454-3a6cbebf2ba1"
      },
      "execution_count": null,
      "outputs": [
        {
          "output_type": "stream",
          "name": "stdout",
          "text": [
            "buah apel\n",
            "buah mangga\n",
            "buah pisang\n"
          ]
        }
      ]
    },
    {
      "cell_type": "code",
      "source": [
        "buah = [\"apel\", \"mangga\", \"pisang\", \"apel\", \"mangga\", \"pisang\", \"apel\", \"mangga\", \"pisang\", \"apel\", \"mangga\", \"pisang\"]\n",
        "for keranjang in range(len(buah)):\n",
        "  print(\"buah\", buah[keranjang])"
      ],
      "metadata": {
        "colab": {
          "base_uri": "https://localhost:8080/"
        },
        "id": "44J1GZZ55em8",
        "outputId": "4b3f06c3-2792-411e-a27b-20b7daf7a4e2"
      },
      "execution_count": null,
      "outputs": [
        {
          "output_type": "stream",
          "name": "stdout",
          "text": [
            "buah apel\n",
            "buah mangga\n",
            "buah pisang\n",
            "buah apel\n",
            "buah mangga\n",
            "buah pisang\n",
            "buah apel\n",
            "buah mangga\n",
            "buah pisang\n",
            "buah apel\n",
            "buah mangga\n",
            "buah pisang\n"
          ]
        }
      ]
    },
    {
      "cell_type": "code",
      "source": [
        "print(buah)"
      ],
      "metadata": {
        "colab": {
          "base_uri": "https://localhost:8080/"
        },
        "id": "_16rmxaZ5iOG",
        "outputId": "45cb7013-8e81-4d34-9e89-2070c0948061"
      },
      "execution_count": null,
      "outputs": [
        {
          "output_type": "stream",
          "name": "stdout",
          "text": [
            "['apel', 'mangga', 'pisang', 'apel', 'mangga', 'pisang', 'apel', 'mangga', 'pisang', 'apel', 'mangga', 'pisang']\n"
          ]
        }
      ]
    },
    {
      "cell_type": "code",
      "source": [
        "usia = 15\n",
        "while usia:\n",
        "  print(usia, end=' ')\n",
        "  usia = usia - 1"
      ],
      "metadata": {
        "colab": {
          "base_uri": "https://localhost:8080/"
        },
        "id": "KKjR4C1q5lkV",
        "outputId": "68bf5546-5823-4f6c-fa70-33270e02848a"
      },
      "execution_count": null,
      "outputs": [
        {
          "output_type": "stream",
          "name": "stdout",
          "text": [
            "15 14 13 12 11 10 9 8 7 6 5 4 3 2 1 "
          ]
        }
      ]
    },
    {
      "cell_type": "code",
      "source": [
        "usia = 15\n",
        "while usia:\n",
        "  print(usia, end=' ')\n",
        "  if usia == 5:\n",
        "    break\n",
        "\n",
        "  usia = usia - 1"
      ],
      "metadata": {
        "colab": {
          "base_uri": "https://localhost:8080/"
        },
        "id": "DZBKEiQR5o3f",
        "outputId": "7802272e-4371-46c3-ec80-3ad4eb73e034"
      },
      "execution_count": null,
      "outputs": [
        {
          "output_type": "stream",
          "name": "stdout",
          "text": [
            "15 14 13 12 11 10 9 8 7 6 5 "
          ]
        }
      ]
    },
    {
      "cell_type": "code",
      "source": [
        "usia = 15\n",
        "while usia:\n",
        "  usia = usia - 1\n",
        "  if usia == 5:\n",
        "    continue\n",
        "\n",
        "  print(usia, end=' ')"
      ],
      "metadata": {
        "colab": {
          "base_uri": "https://localhost:8080/"
        },
        "id": "0nRwuRU_5sQC",
        "outputId": "439d91ce-8f87-4dd0-bd6c-015cfa9dc83e"
      },
      "execution_count": null,
      "outputs": [
        {
          "output_type": "stream",
          "name": "stdout",
          "text": [
            "14 13 12 11 10 9 8 7 6 4 3 2 1 0 "
          ]
        }
      ]
    },
    {
      "cell_type": "code",
      "source": [
        "for n in range(2,10):\n",
        "  for x in range(2,n):\n",
        "    if n % x == 0:\n",
        "      print(n, \"habis dibagi\", x)\n",
        "      break\n",
        "  else:\n",
        "    print(n, \"adalah bilangan prima\")"
      ],
      "metadata": {
        "colab": {
          "base_uri": "https://localhost:8080/"
        },
        "id": "2BTjxoQU5vij",
        "outputId": "354ebd29-5e56-4306-e195-9ccb8ccf8c2e"
      },
      "execution_count": null,
      "outputs": [
        {
          "output_type": "stream",
          "name": "stdout",
          "text": [
            "2 adalah bilangan prima\n",
            "3 adalah bilangan prima\n",
            "4 habis dibagi 2\n",
            "5 adalah bilangan prima\n",
            "6 habis dibagi 2\n",
            "7 adalah bilangan prima\n",
            "8 habis dibagi 2\n",
            "9 habis dibagi 3\n"
          ]
        }
      ]
    },
    {
      "cell_type": "code",
      "source": [
        "usia = 15\n",
        "while usia:\n",
        "  usia = usia - 1\n",
        "  if usia == 5:\n",
        "    continue\n",
        "\n",
        "  print(usia, end=' ')\n",
        "else:\n",
        "  print(\"Selesai\")"
      ],
      "metadata": {
        "colab": {
          "base_uri": "https://localhost:8080/"
        },
        "id": "srE3e-VE5y1v",
        "outputId": "05145264-a5b0-46fb-99e3-4b5b4077c4da"
      },
      "execution_count": null,
      "outputs": [
        {
          "output_type": "stream",
          "name": "stdout",
          "text": [
            "14 13 12 11 10 9 8 7 6 4 3 2 1 0 Selesai\n"
          ]
        }
      ]
    },
    {
      "cell_type": "code",
      "source": [
        "def tambah():\n",
        "  pass"
      ],
      "metadata": {
        "id": "CdYCRR5254k6"
      },
      "execution_count": null,
      "outputs": []
    },
    {
      "cell_type": "code",
      "source": [
        "buah = [\"mangga\", \"apel\", \"pisang\"]\n",
        "copy_buah = [x for x in buah]\n",
        "print(copy_buah)"
      ],
      "metadata": {
        "colab": {
          "base_uri": "https://localhost:8080/"
        },
        "id": "FM-KCP_d55oN",
        "outputId": "afa30dee-33ba-493e-855c-4730f4a05aeb"
      },
      "execution_count": null,
      "outputs": [
        {
          "output_type": "stream",
          "name": "stdout",
          "text": [
            "['mangga', 'apel', 'pisang']\n"
          ]
        }
      ]
    },
    {
      "cell_type": "code",
      "source": [
        "buah = [\"mangga\", \"apel\", \"pisang\"]\n",
        "copy_buah = [x for x in buah if x != \"apel\"]\n",
        "print(copy_buah)"
      ],
      "metadata": {
        "colab": {
          "base_uri": "https://localhost:8080/"
        },
        "id": "lFB3OSWv59iM",
        "outputId": "3bb1636a-9c8d-4358-9cba-5de9c54e6c5b"
      },
      "execution_count": null,
      "outputs": [
        {
          "output_type": "stream",
          "name": "stdout",
          "text": [
            "['mangga', 'pisang']\n"
          ]
        }
      ]
    },
    {
      "cell_type": "code",
      "source": [
        "buah = [\"mangga\", \"apel\", \"pisang\"]\n",
        "buah_wadah = []\n",
        "for x in buah:\n",
        "  if x != \"apel\":\n",
        "    buah_wadah.append(x)\n",
        "\n",
        "print(buah_wadah)"
      ],
      "metadata": {
        "colab": {
          "base_uri": "https://localhost:8080/"
        },
        "id": "Se5KjmDr6A3j",
        "outputId": "9c94317d-bb7e-4296-94b3-3ddc968de849"
      },
      "execution_count": null,
      "outputs": [
        {
          "output_type": "stream",
          "name": "stdout",
          "text": [
            "['mangga', 'pisang']\n"
          ]
        }
      ]
    },
    {
      "cell_type": "code",
      "source": [
        "buah = [\"mangga\", \"apel\", \"pisang\"]\n",
        "copy_buah = [x.upper() if x == \"apel\" else x for x in buah]\n",
        "print(copy_buah)"
      ],
      "metadata": {
        "colab": {
          "base_uri": "https://localhost:8080/"
        },
        "id": "XbxrasK26D97",
        "outputId": "35d317d8-7fbb-4729-f4e1-5a914a044296"
      },
      "execution_count": null,
      "outputs": [
        {
          "output_type": "stream",
          "name": "stdout",
          "text": [
            "['mangga', 'APEL', 'pisang']\n"
          ]
        }
      ]
    },
    {
      "cell_type": "markdown",
      "source": [
        "TugasPI"
      ],
      "metadata": {
        "id": "u7dYLuYO7lvW"
      }
    },
    {
      "cell_type": "code",
      "source": [
        "print(\"Ibu pergi ke pasar\")\n",
        "menu = input(\"Apa yang ingin dibeli ibu? (y/t): \")\n",
        "\n",
        "if menu.lower() == \"y\":\n",
        "    print(\"Ibu membeli dan memasak ayam\")\n",
        "elif menu.lower() == \"t\":\n",
        "    print(\"Ibu membeli dan memasak tempe\")\n",
        "else:\n",
        "    print(\"Ibu tidak bisa memasak, karena menu tidak tersedia\")"
      ],
      "metadata": {
        "colab": {
          "base_uri": "https://localhost:8080/"
        },
        "id": "xDbcUJDt7ohu",
        "outputId": "79c5f004-bcf7-4faa-bb58-e7ae7bf0762f"
      },
      "execution_count": null,
      "outputs": [
        {
          "output_type": "stream",
          "name": "stdout",
          "text": [
            "Ibu pergi ke pasar\n",
            "Apa yang ingin dibeli ibu? (y/t): y\n",
            "Ibu membeli dan memasak ayam\n"
          ]
        }
      ]
    },
    {
      "cell_type": "code",
      "source": [
        "def jam_kos(n):\n",
        "  for i in range(n, 0, -1):\n",
        "      for j in range(n - i):\n",
        "          print(\" \", end=\"\")\n",
        "      for j in range(2 * i - 1):\n",
        "          if j == 0 or j == 2 * i - 2 or i == n:\n",
        "              print(\"*\", end=\"\")\n",
        "          else:\n",
        "              print(\" \", end=\"\")\n",
        "      print()\n",
        "\n",
        "  for i in range(2, n + 1):\n",
        "      for j in range(n - i):\n",
        "          print(\" \", end=\"\")\n",
        "      for j in range(2 * i - 1):\n",
        "          if j == 0 or j == 2 * i - 2 or i == n:\n",
        "              print(\"*\", end=\"\")\n",
        "          else:\n",
        "              print(\" \", end=\"\")\n",
        "      print()\n",
        "\n",
        "n = int(input(\" \"))\n",
        "jam_kos(n)"
      ],
      "metadata": {
        "colab": {
          "base_uri": "https://localhost:8080/"
        },
        "id": "r6fFghsj7xq6",
        "outputId": "42d9bc07-3b04-4389-c11c-35db93478d0c"
      },
      "execution_count": null,
      "outputs": [
        {
          "output_type": "stream",
          "name": "stdout",
          "text": [
            " 9\n",
            "*****************\n",
            " *             *\n",
            "  *           *\n",
            "   *         *\n",
            "    *       *\n",
            "     *     *\n",
            "      *   *\n",
            "       * *\n",
            "        *\n",
            "       * *\n",
            "      *   *\n",
            "     *     *\n",
            "    *       *\n",
            "   *         *\n",
            "  *           *\n",
            " *             *\n",
            "*****************\n"
          ]
        }
      ]
    },
    {
      "cell_type": "code",
      "source": [
        "n = 5\n",
        "for i in range(n, 0, -1):\n",
        "    for j in range(n - i):\n",
        "        print(\" \", end=\" \")\n",
        "    for j in range(2 * i - 1):\n",
        "        if j == 0 or j == 2 * i - 2 or i == n:\n",
        "            print(j + 1, end=\" \")\n",
        "        else:\n",
        "            print(\" \", end=\" \")\n",
        "    print()\n",
        "\n",
        "for i in range(2, n + 1):\n",
        "    for j in range(n - i):\n",
        "        print(\" \", end=\" \")\n",
        "    for j in range(2 * i - 1):\n",
        "        if j == 0 or j == 2 * i - 2 or i == n:\n",
        "            print(j + 1, end=\" \")\n",
        "        else:\n",
        "            print(\" \", end=\" \")\n",
        "    print()"
      ],
      "metadata": {
        "colab": {
          "base_uri": "https://localhost:8080/"
        },
        "id": "9-Y21ByC74Uf",
        "outputId": "630b4de8-5609-4b93-ce47-32fc92e53bc1"
      },
      "execution_count": null,
      "outputs": [
        {
          "output_type": "stream",
          "name": "stdout",
          "text": [
            "1 2 3 4 5 6 7 8 9 \n",
            "  1           7 \n",
            "    1       5 \n",
            "      1   3 \n",
            "        1 \n",
            "      1   3 \n",
            "    1       5 \n",
            "  1           7 \n",
            "1 2 3 4 5 6 7 8 9 \n"
          ]
        }
      ]
    },
    {
      "cell_type": "code",
      "source": [
        "n = 5\n",
        "for i in range(n, 0, -1):\n",
        "    for j in range(n - i):\n",
        "        print(\" \", end=\" \")\n",
        "    for j in range(2 * i - 1):\n",
        "        if j == 0 or j == 2 * i - 2 or i == n:\n",
        "            j+=64\n",
        "            print(chr(j+1), end=\" \")\n",
        "        else:\n",
        "            print(\" \", end=\" \")\n",
        "    print()\n",
        "\n",
        "for i in range(2, n + 1):\n",
        "    for j in range(n - i):\n",
        "        print(\" \", end=\" \")\n",
        "    for j in range(2 * i - 1):\n",
        "        if j == 0 or j == 2 * i - 2 or i == n:\n",
        "            j+=64\n",
        "            print(chr(j+1), end=\" \")\n",
        "        else:\n",
        "            print(\" \", end=\" \")\n",
        "    print()"
      ],
      "metadata": {
        "colab": {
          "base_uri": "https://localhost:8080/"
        },
        "id": "nU8BCcQY8CIw",
        "outputId": "f39eaa29-1418-4c9f-94f7-a36be49334a0"
      },
      "execution_count": null,
      "outputs": [
        {
          "output_type": "stream",
          "name": "stdout",
          "text": [
            "A B C D E F G H I \n",
            "  A           G \n",
            "    A       E \n",
            "      A   C \n",
            "        A \n",
            "      A   C \n",
            "    A       E \n",
            "  A           G \n",
            "A B C D E F G H I \n"
          ]
        }
      ]
    },
    {
      "cell_type": "code",
      "source": [
        "def hitung_operasi(operasi):\n",
        "    try:\n",
        "        hasil = eval(operasi)\n",
        "        return hasil\n",
        "    except:\n",
        "        return \"Operasi tidak valid\"\n",
        "\n",
        "# Membaca input dari pengguna\n",
        "operasi = input()\n",
        "\n",
        "# Memanggil fungsi hitung_operasi dan mencetak hasilnya\n",
        "hasil = hitung_operasi(operasi)\n",
        "print(hasil)"
      ],
      "metadata": {
        "colab": {
          "base_uri": "https://localhost:8080/"
        },
        "id": "LYsH8PVo8HOS",
        "outputId": "2246b228-e820-48f8-f5a1-57451c613b61"
      },
      "execution_count": null,
      "outputs": [
        {
          "output_type": "stream",
          "name": "stdout",
          "text": [
            "10\n",
            "10\n"
          ]
        }
      ]
    },
    {
      "cell_type": "code",
      "source": [
        "# Membaca input jari-jari r\n",
        "r = float(input())\n",
        "\n",
        "# Menghitung luas lingkaran\n",
        "pi = 3.14\n",
        "luas = pi * r**2\n",
        "\n",
        "# Mencetak hasil dengan pembulatan 2 tempat desimal\n",
        "print(\"{:.2f}\".format(luas))"
      ],
      "metadata": {
        "colab": {
          "base_uri": "https://localhost:8080/"
        },
        "id": "0M7Iagso8Yoy",
        "outputId": "bc9b295c-2b18-496f-e4a6-0803a8bd87c8"
      },
      "execution_count": null,
      "outputs": [
        {
          "output_type": "stream",
          "name": "stdout",
          "text": [
            "3\n",
            "28.26\n"
          ]
        }
      ]
    },
    {
      "cell_type": "code",
      "source": [
        "# Membaca input tinggi badan (t), berat badan (b), dan usia (u)\n",
        "t, b, u = map(int, input().split())\n",
        "\n",
        "# Memeriksa apakah Kayla memenuhi syarat\n",
        "if t > 170 and b > 55 and u >= 15:\n",
        "    print(\"Lolos\")\n",
        "else:\n",
        "    print(\"Tidak Lolos\")"
      ],
      "metadata": {
        "colab": {
          "base_uri": "https://localhost:8080/"
        },
        "id": "aP3H7dDB8gPR",
        "outputId": "562a4730-f9de-4068-d818-3b63ab00e458"
      },
      "execution_count": null,
      "outputs": [
        {
          "output_type": "stream",
          "name": "stdout",
          "text": [
            "176 68 15\n",
            "Lolos\n"
          ]
        }
      ]
    },
    {
      "cell_type": "code",
      "source": [
        "# Membaca jumlah pasangan bilangan\n",
        "N = int(input())\n",
        "\n",
        "# Inisialisasi sebuah list untuk menyimpan hasil untuk setiap pasangan bilangan\n",
        "hasil = []\n",
        "\n",
        "# Membaca dan memeriksa setiap pasangan bilangan\n",
        "for _ in range(N):\n",
        "    A, B = map(int, input().split())\n",
        "    # Memeriksa apakah B memuat A sebagai substringnya\n",
        "    if str(A) in str(B):\n",
        "        # Memeriksa apakah 2B lebih besar dari A^2\n",
        "        if 2 * B > A**2:\n",
        "            hasil.append(\"Ya\")\n",
        "        else:\n",
        "            hasil.append(\"Tidak\")\n",
        "    else:\n",
        "        hasil.append(\"Tidak\")\n",
        "\n",
        "# Mencetak hasil untuk setiap pasangan bilangan\n",
        "for h in hasil:\n",
        "    print(h)"
      ],
      "metadata": {
        "colab": {
          "base_uri": "https://localhost:8080/"
        },
        "id": "jmLmBQfR8r9W",
        "outputId": "41c5ba24-6741-4569-db25-b0d41bc4a75f"
      },
      "execution_count": null,
      "outputs": [
        {
          "output_type": "stream",
          "name": "stdout",
          "text": [
            "1\n",
            "12 122\n",
            "Ya\n"
          ]
        }
      ]
    },
    {
      "cell_type": "code",
      "source": [
        "string = \"\"\n",
        "\n",
        "x = int(input(\"Masukkan angka :\"))\n",
        "bar = x\n",
        "# Looping Baris\n",
        "while bar >= 0:\n",
        "\t# Looping Kolom Spasi Kosong\n",
        "\tkol = bar\n",
        "\twhile kol > 0:\n",
        "\t\tstring = string + \"   \"\n",
        "\t\tkol = kol - 1\n",
        "\t# Looping Kolom Bintang Sisi Kiri\n",
        "\tkiri = 1\n",
        "\twhile kiri < (x - (bar-1)):\n",
        "\t\tstring = string + \" * \"\n",
        "\t\tkiri = kiri + 1\n",
        "\t# Looping Kolom Bintang Sisi Kanan\n",
        "\tkanan = 1\n",
        "\twhile kanan < kiri -1:\n",
        "\t\tstring = string + \" * \"\n",
        "\t\tkanan = kanan + 1\n",
        "\n",
        "\tstring = string + \"\\n\\n\"\n",
        "\tbar = bar - 1\n",
        "\n",
        "print (string)"
      ],
      "metadata": {
        "colab": {
          "base_uri": "https://localhost:8080/"
        },
        "id": "FSq0VTG5Tl4V",
        "outputId": "0bd3ffe6-3def-44bd-cb6c-44979799bca1"
      },
      "execution_count": null,
      "outputs": [
        {
          "output_type": "stream",
          "name": "stdout",
          "text": [
            "Masukkan angka :9\n",
            "                           \n",
            "\n",
            "                         * \n",
            "\n",
            "                      *  *  * \n",
            "\n",
            "                   *  *  *  *  * \n",
            "\n",
            "                *  *  *  *  *  *  * \n",
            "\n",
            "             *  *  *  *  *  *  *  *  * \n",
            "\n",
            "          *  *  *  *  *  *  *  *  *  *  * \n",
            "\n",
            "       *  *  *  *  *  *  *  *  *  *  *  *  * \n",
            "\n",
            "    *  *  *  *  *  *  *  *  *  *  *  *  *  *  * \n",
            "\n",
            " *  *  *  *  *  *  *  *  *  *  *  *  *  *  *  *  * \n",
            "\n",
            "\n"
          ]
        }
      ]
    },
    {
      "cell_type": "code",
      "source": [
        "string = \"\"\n",
        "bar = 1\n",
        "\n",
        "x = int(input(\"Masukkan angka :\"))\n",
        "\n",
        "# Looping Baris\n",
        "while bar <= x:\n",
        "\tkol = bar\n",
        "\n",
        "\t# Looping Kolom\n",
        "\twhile kol > 0:\n",
        "\t\tstring = string + \" * \"\n",
        "\t\tkol = kol - 1\n",
        "\n",
        "\tstring = string + \"\\n\"\n",
        "\tbar = bar + 1\n",
        "print (string)"
      ],
      "metadata": {
        "colab": {
          "base_uri": "https://localhost:8080/"
        },
        "id": "R0Y2fOfFVCly",
        "outputId": "2e316858-114c-4068-a6e0-e9689fbc7f6a"
      },
      "execution_count": null,
      "outputs": [
        {
          "output_type": "stream",
          "name": "stdout",
          "text": [
            "Masukkan angka :9\n",
            " * \n",
            " *  * \n",
            " *  *  * \n",
            " *  *  *  * \n",
            " *  *  *  *  * \n",
            " *  *  *  *  *  * \n",
            " *  *  *  *  *  *  * \n",
            " *  *  *  *  *  *  *  * \n",
            " *  *  *  *  *  *  *  *  * \n",
            "\n"
          ]
        }
      ]
    },
    {
      "cell_type": "code",
      "source": [
        "string = \"\"\n",
        "\n",
        "bar = int(input(\"Masukkan angka :\"))\n",
        "\n",
        "#Looping Baris\n",
        "while bar >= 0:\n",
        "\tkol = bar\n",
        "\n",
        "\t# Looping Kolom\n",
        "\twhile kol > 0:\n",
        "\t\tstring = string + \" * \"\n",
        "\t\tkol = kol - 1\n",
        "\n",
        "\tstring = string + \"\\n\"\n",
        "\tbar = bar - 1\n",
        "\n",
        "print (string)"
      ],
      "metadata": {
        "id": "knb7Pes3Vc8D",
        "colab": {
          "base_uri": "https://localhost:8080/"
        },
        "outputId": "50e8e579-8c0f-4902-c20e-c661b38d5fc7"
      },
      "execution_count": null,
      "outputs": [
        {
          "output_type": "stream",
          "name": "stdout",
          "text": [
            "Masukkan angka :9\n",
            " *  *  *  *  *  *  *  *  * \n",
            " *  *  *  *  *  *  *  * \n",
            " *  *  *  *  *  *  * \n",
            " *  *  *  *  *  * \n",
            " *  *  *  *  * \n",
            " *  *  *  * \n",
            " *  *  * \n",
            " *  * \n",
            " * \n",
            "\n",
            "\n"
          ]
        }
      ]
    },
    {
      "cell_type": "code",
      "source": [
        "string = \"\"\n",
        "\n",
        "x = int(input(\"Masukkan angka :\"))\n",
        "bar = x\n",
        "# Looping Baris\n",
        "while bar >= 0:\n",
        "\n",
        "\t# Looping Kolom Spasi Kosong\n",
        "\tkol = bar\n",
        "\twhile kol > 0:\n",
        "\t\tstring = string + \"   \"\n",
        "\t\tkol = kol - 1\n",
        "\n",
        "\t# Looping Kolom Bintang\n",
        "\tkanan = 1\n",
        "\twhile kanan < (x - (bar-1)):\n",
        "\t\tstring = string + \" * \"\n",
        "\t\tkanan = kanan + 1\n",
        "\n",
        "\tstring = string + \"\\n\"\n",
        "\tbar = bar - 1\n",
        "\n",
        "print (string)"
      ],
      "metadata": {
        "colab": {
          "base_uri": "https://localhost:8080/"
        },
        "id": "TRabuo--e7uL",
        "outputId": "56553fde-fdf0-4414-e41c-405b39138d71"
      },
      "execution_count": null,
      "outputs": [
        {
          "output_type": "stream",
          "name": "stdout",
          "text": [
            "Masukkan angka :9\n",
            "                           \n",
            "                         * \n",
            "                      *  * \n",
            "                   *  *  * \n",
            "                *  *  *  * \n",
            "             *  *  *  *  * \n",
            "          *  *  *  *  *  * \n",
            "       *  *  *  *  *  *  * \n",
            "    *  *  *  *  *  *  *  * \n",
            " *  *  *  *  *  *  *  *  * \n",
            "\n"
          ]
        }
      ]
    },
    {
      "cell_type": "code",
      "source": [
        "string = \"\"\n",
        "bar = 1\n",
        "\n",
        "x = int(input(\"Masukkan angka :\"))\n",
        "\n",
        "# Looping Baris\n",
        "while bar <= x:\n",
        "\t# Looping Kolom Spasi Kosong\n",
        "\tkol = bar\n",
        "\twhile kol > 1:\n",
        "\t\tstring = string + \"   \"\n",
        "\t\tkol = kol - 1\n",
        "\n",
        "\t# Looping Kolom Bintang\n",
        "\tkanan = 0\n",
        "\twhile kanan <= (x - bar):\n",
        "\t\tstring = string + \" * \"\n",
        "\t\tkanan = kanan + 1\n",
        "\n",
        "\tstring = string + \"\\n\"\n",
        "\tbar = bar + 1\n",
        "print (string)"
      ],
      "metadata": {
        "colab": {
          "base_uri": "https://localhost:8080/"
        },
        "id": "E4_VVFw4fGny",
        "outputId": "ffb75b94-1748-4920-9e5b-cab4d17e10c1"
      },
      "execution_count": null,
      "outputs": [
        {
          "output_type": "stream",
          "name": "stdout",
          "text": [
            "Masukkan angka :9\n",
            " *  *  *  *  *  *  *  *  * \n",
            "    *  *  *  *  *  *  *  * \n",
            "       *  *  *  *  *  *  * \n",
            "          *  *  *  *  *  * \n",
            "             *  *  *  *  * \n",
            "                *  *  *  * \n",
            "                   *  *  * \n",
            "                      *  * \n",
            "                         * \n",
            "\n"
          ]
        }
      ]
    },
    {
      "cell_type": "code",
      "source": [
        "string = \"\"\n",
        "bar = 1\n",
        "\n",
        "x = int(input(\"Masukkan angka :\"))\n",
        "print (\"\\n\")\n",
        "# Looping Baris\n",
        "while bar <= x:\n",
        "\tkol = bar\n",
        "\t# Looping Kolom Spasi Kosong\n",
        "\twhile kol > 1:\n",
        "\t\tstring = string + \"   \"\n",
        "\t\tkol = kol - 1\n",
        "\t# Looping Kolom Bintang Sisi Kiri\n",
        "\tkiri = 0\n",
        "\twhile kiri <= (x - bar):\n",
        "\t\tstring = string + \" * \"\n",
        "\t\tkiri = kiri + 1\n",
        "\t# Looping Kolom Bintang Sisi Kanan\n",
        "\tkanan = kiri\n",
        "\twhile kanan > 1:\n",
        "\t\tstring = string + \" * \"\n",
        "\t\tkanan = kanan - 1\n",
        "\n",
        "\tstring = string + \"\\n\\n\"\n",
        "\tbar = bar + 1\n",
        "print (string)"
      ],
      "metadata": {
        "colab": {
          "base_uri": "https://localhost:8080/"
        },
        "id": "WGSTwy54fq-l",
        "outputId": "111feea2-06aa-4441-841c-c7976b180e7b"
      },
      "execution_count": null,
      "outputs": [
        {
          "output_type": "stream",
          "name": "stdout",
          "text": [
            "Masukkan angka :9\n",
            "\n",
            "\n",
            " *  *  *  *  *  *  *  *  *  *  *  *  *  *  *  *  * \n",
            "\n",
            "    *  *  *  *  *  *  *  *  *  *  *  *  *  *  * \n",
            "\n",
            "       *  *  *  *  *  *  *  *  *  *  *  *  * \n",
            "\n",
            "          *  *  *  *  *  *  *  *  *  *  * \n",
            "\n",
            "             *  *  *  *  *  *  *  *  * \n",
            "\n",
            "                *  *  *  *  *  *  * \n",
            "\n",
            "                   *  *  *  *  * \n",
            "\n",
            "                      *  *  * \n",
            "\n",
            "                         * \n",
            "\n",
            "\n"
          ]
        }
      ]
    }
  ]
}