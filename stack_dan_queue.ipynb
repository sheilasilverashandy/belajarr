{
  "nbformat": 4,
  "nbformat_minor": 0,
  "metadata": {
    "colab": {
      "provenance": []
    },
    "kernelspec": {
      "name": "python3",
      "display_name": "Python 3"
    },
    "language_info": {
      "name": "python"
    }
  },
  "cells": [
    {
      "cell_type": "code",
      "source": [
        "stack = []\n",
        "stack.append('1')\n",
        "stack.append('2')\n",
        "stack.append('3')\n",
        "stack.append('4')"
      ],
      "metadata": {
        "id": "EHfHkRp1iemk"
      },
      "execution_count": null,
      "outputs": []
    },
    {
      "cell_type": "code",
      "source": [
        "stack\n",
        "stack.pop()\n",
        "stack"
      ],
      "metadata": {
        "colab": {
          "base_uri": "https://localhost:8080/"
        },
        "id": "z6wYgxa3jOTg",
        "outputId": "800627f6-40be-46eb-ecb5-ee80b75e8238"
      },
      "execution_count": null,
      "outputs": [
        {
          "output_type": "execute_result",
          "data": {
            "text/plain": [
              "['1', '2', '3']"
            ]
          },
          "metadata": {},
          "execution_count": 18
        }
      ]
    },
    {
      "cell_type": "code",
      "source": [
        "from collections import deque"
      ],
      "metadata": {
        "id": "hOwdHiVlja-u"
      },
      "execution_count": null,
      "outputs": []
    },
    {
      "cell_type": "code",
      "source": [
        "Stack = deque()\n",
        "Stack"
      ],
      "metadata": {
        "colab": {
          "base_uri": "https://localhost:8080/"
        },
        "id": "Y7_RS9l0jwPq",
        "outputId": "90cecb3f-c509-4ef3-d2d4-21d4061db3a3"
      },
      "execution_count": null,
      "outputs": [
        {
          "output_type": "execute_result",
          "data": {
            "text/plain": [
              "deque([])"
            ]
          },
          "metadata": {},
          "execution_count": 22
        }
      ]
    },
    {
      "cell_type": "code",
      "source": [
        "Stack.append('1')\n",
        "Stack.append('2')\n",
        "Stack.append('3')\n",
        "Stack.append('4')"
      ],
      "metadata": {
        "id": "n0JX8nGRj54Y"
      },
      "execution_count": null,
      "outputs": []
    },
    {
      "cell_type": "code",
      "source": [
        "Stack\n",
        "len(Stack)"
      ],
      "metadata": {
        "colab": {
          "base_uri": "https://localhost:8080/"
        },
        "id": "SpTHH8FHkE9y",
        "outputId": "5d36c27c-db85-45e3-8e9a-c3fcaccd17f1"
      },
      "execution_count": null,
      "outputs": [
        {
          "output_type": "execute_result",
          "data": {
            "text/plain": [
              "4"
            ]
          },
          "metadata": {},
          "execution_count": 24
        }
      ]
    },
    {
      "cell_type": "code",
      "source": [
        "class stack:\n",
        "  def __init__(self):\n",
        "    self.container = deque()\n",
        "  def push(self, x):\n",
        "    self.container.append(x)\n",
        "  def pop(self):\n",
        "    self.container.pop()\n",
        "  def peek(self):\n",
        "    return self.container[-1]\n",
        "  def is_empty(self):\n",
        "    return len(self.container)==0\n",
        "  def size(self):\n",
        "    return len(self.container)"
      ],
      "metadata": {
        "id": "gviw8US4kN3-"
      },
      "execution_count": null,
      "outputs": []
    },
    {
      "cell_type": "code",
      "source": [
        "S = stack()\n",
        "S.push(7)\n",
        "S.push(1)"
      ],
      "metadata": {
        "id": "TKZjHhp0lFAN"
      },
      "execution_count": null,
      "outputs": []
    },
    {
      "cell_type": "code",
      "source": [
        "S.container"
      ],
      "metadata": {
        "colab": {
          "base_uri": "https://localhost:8080/"
        },
        "id": "QguGsgZblOV6",
        "outputId": "8d5708a4-86d8-45c5-f072-3a9870382e06"
      },
      "execution_count": null,
      "outputs": [
        {
          "output_type": "execute_result",
          "data": {
            "text/plain": [
              "deque([7, 1])"
            ]
          },
          "metadata": {},
          "execution_count": 27
        }
      ]
    },
    {
      "cell_type": "code",
      "source": [
        "S.peek()"
      ],
      "metadata": {
        "colab": {
          "base_uri": "https://localhost:8080/"
        },
        "id": "ZQVBLISplU-h",
        "outputId": "22cee95a-d7b4-49cd-b9cf-34c6dfa679de"
      },
      "execution_count": null,
      "outputs": [
        {
          "output_type": "execute_result",
          "data": {
            "text/plain": [
              "1"
            ]
          },
          "metadata": {},
          "execution_count": 28
        }
      ]
    },
    {
      "cell_type": "code",
      "source": [
        "S.pop()"
      ],
      "metadata": {
        "id": "idGFeuPClbZ2"
      },
      "execution_count": null,
      "outputs": []
    },
    {
      "cell_type": "code",
      "source": [
        "S.is_empty()"
      ],
      "metadata": {
        "colab": {
          "base_uri": "https://localhost:8080/"
        },
        "id": "awhgzTN-lgo-",
        "outputId": "49ca2852-e7f9-4d42-d6d9-e021e6ba8931"
      },
      "execution_count": null,
      "outputs": [
        {
          "output_type": "execute_result",
          "data": {
            "text/plain": [
              "False"
            ]
          },
          "metadata": {},
          "execution_count": 30
        }
      ]
    },
    {
      "cell_type": "code",
      "source": [
        "S.push(4)"
      ],
      "metadata": {
        "id": "5g3_Jeaulnhz"
      },
      "execution_count": null,
      "outputs": []
    },
    {
      "cell_type": "code",
      "source": [
        "S.size()"
      ],
      "metadata": {
        "colab": {
          "base_uri": "https://localhost:8080/"
        },
        "id": "jSi8qRGElswB",
        "outputId": "b96bd87f-26c3-4782-9a56-027d58e9457a"
      },
      "execution_count": null,
      "outputs": [
        {
          "output_type": "execute_result",
          "data": {
            "text/plain": [
              "2"
            ]
          },
          "metadata": {},
          "execution_count": 32
        }
      ]
    },
    {
      "cell_type": "code",
      "source": [
        "S.container"
      ],
      "metadata": {
        "colab": {
          "base_uri": "https://localhost:8080/"
        },
        "id": "8-R2QaKRl0gZ",
        "outputId": "7c5540ec-8e3e-41c4-ab05-18b3b988ffc6"
      },
      "execution_count": null,
      "outputs": [
        {
          "output_type": "execute_result",
          "data": {
            "text/plain": [
              "deque([7, 4])"
            ]
          },
          "metadata": {},
          "execution_count": 33
        }
      ]
    },
    {
      "cell_type": "markdown",
      "source": [
        "Queue"
      ],
      "metadata": {
        "id": "T9SCQHY6l5jK"
      }
    },
    {
      "cell_type": "code",
      "source": [
        "temp_transaksi=[]\n",
        "temp_transaksi.insert(0, 70000)\n",
        "temp_transaksi.insert(0, 80000)\n",
        "\n",
        "temp_transaksi"
      ],
      "metadata": {
        "colab": {
          "base_uri": "https://localhost:8080/"
        },
        "id": "j4K__FKYl70m",
        "outputId": "782f472e-8fd9-47a4-f02b-08176087c8ac"
      },
      "execution_count": null,
      "outputs": [
        {
          "output_type": "execute_result",
          "data": {
            "text/plain": [
              "[80000, 70000]"
            ]
          },
          "metadata": {},
          "execution_count": 40
        }
      ]
    },
    {
      "cell_type": "code",
      "source": [
        "temp_transaksi.pop()\n",
        "temp_transaksi"
      ],
      "metadata": {
        "colab": {
          "base_uri": "https://localhost:8080/"
        },
        "id": "wkJCCKv1oMj7",
        "outputId": "14ed7380-8d1e-4ab3-893d-0e428002e2dd"
      },
      "execution_count": null,
      "outputs": [
        {
          "output_type": "execute_result",
          "data": {
            "text/plain": [
              "[80000]"
            ]
          },
          "metadata": {},
          "execution_count": 41
        }
      ]
    },
    {
      "cell_type": "code",
      "source": [
        "q = deque()"
      ],
      "metadata": {
        "id": "4JqNUzxyoela"
      },
      "execution_count": null,
      "outputs": []
    },
    {
      "cell_type": "code",
      "source": [
        "q.appendleft(17)\n",
        "q.appendleft(5)\n",
        "q.appendleft(22)\n",
        "q"
      ],
      "metadata": {
        "colab": {
          "base_uri": "https://localhost:8080/"
        },
        "id": "J7oxrA78oqnC",
        "outputId": "90e37074-ab06-465a-fc3c-80ff5d2df23a"
      },
      "execution_count": null,
      "outputs": [
        {
          "output_type": "execute_result",
          "data": {
            "text/plain": [
              "deque([22, 5, 17])"
            ]
          },
          "metadata": {},
          "execution_count": 43
        }
      ]
    },
    {
      "cell_type": "code",
      "source": [
        "q.pop()\n",
        "q"
      ],
      "metadata": {
        "colab": {
          "base_uri": "https://localhost:8080/"
        },
        "id": "Y2L1UPIrpMpz",
        "outputId": "512489ba-555b-4400-9bd5-a8c4441fb6e3"
      },
      "execution_count": null,
      "outputs": [
        {
          "output_type": "execute_result",
          "data": {
            "text/plain": [
              "deque([22, 5])"
            ]
          },
          "metadata": {},
          "execution_count": 44
        }
      ]
    },
    {
      "cell_type": "code",
      "source": [
        "class Queue:\n",
        "  def __init__(self):\n",
        "    self.buffer=deque()\n",
        "  def enqueue(self, x):\n",
        "    self.buffer.appendleft(x)\n",
        "  def dequeue(self):\n",
        "    return self.buffer.pop()\n",
        "  def is_empty():\n",
        "    return len(self.buffer)== 0\n",
        "  def size(self):\n",
        "    return len(self.buffer)"
      ],
      "metadata": {
        "id": "Icbggh0LpSc6"
      },
      "execution_count": null,
      "outputs": []
    },
    {
      "cell_type": "code",
      "source": [
        "pq =Queue()\n",
        "pq.enqueue(3)\n",
        "pq.enqueue(9)\n",
        "pq.enqueue(1)"
      ],
      "metadata": {
        "id": "KaOC044jp_T3"
      },
      "execution_count": null,
      "outputs": []
    },
    {
      "cell_type": "code",
      "source": [
        "pq.buffer"
      ],
      "metadata": {
        "colab": {
          "base_uri": "https://localhost:8080/"
        },
        "id": "QRVEAJwvqL_q",
        "outputId": "22303bbf-7c6a-426f-d3a1-29c4a6d50bbe"
      },
      "execution_count": null,
      "outputs": [
        {
          "output_type": "execute_result",
          "data": {
            "text/plain": [
              "deque([1, 9, 3])"
            ]
          },
          "metadata": {},
          "execution_count": 47
        }
      ]
    },
    {
      "cell_type": "code",
      "source": [
        "pq.dequeue()"
      ],
      "metadata": {
        "colab": {
          "base_uri": "https://localhost:8080/"
        },
        "id": "uHfbzJltqQaT",
        "outputId": "7c18edc6-4cee-4be8-f449-a994448d6712"
      },
      "execution_count": null,
      "outputs": [
        {
          "output_type": "execute_result",
          "data": {
            "text/plain": [
              "3"
            ]
          },
          "metadata": {},
          "execution_count": 48
        }
      ]
    },
    {
      "cell_type": "code",
      "source": [
        "pq.size()"
      ],
      "metadata": {
        "colab": {
          "base_uri": "https://localhost:8080/"
        },
        "id": "zvhXpbrNqWF1",
        "outputId": "b25e0cda-3ca2-44c4-d9c2-0cd4039676bb"
      },
      "execution_count": null,
      "outputs": [
        {
          "output_type": "execute_result",
          "data": {
            "text/plain": [
              "2"
            ]
          },
          "metadata": {},
          "execution_count": 49
        }
      ]
    }
  ]
}