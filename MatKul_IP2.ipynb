{
  "nbformat": 4,
  "nbformat_minor": 0,
  "metadata": {
    "colab": {
      "provenance": []
    },
    "kernelspec": {
      "name": "python3",
      "display_name": "Python 3"
    },
    "language_info": {
      "name": "python"
    }
  },
  "cells": [
    {
      "cell_type": "code",
      "execution_count": 1,
      "metadata": {
        "colab": {
          "base_uri": "https://localhost:8080/"
        },
        "id": "TbnU1wxbUUQo",
        "outputId": "887ba059-9e72-4abe-d148-667efb40d010"
      },
      "outputs": [
        {
          "output_type": "stream",
          "name": "stdout",
          "text": [
            "Masukkan angka :6\n",
            "                  \n",
            "\n",
            "                * \n",
            "\n",
            "             *  *  * \n",
            "\n",
            "          *  *  *  *  * \n",
            "\n",
            "       *  *  *  *  *  *  * \n",
            "\n",
            "    *  *  *  *  *  *  *  *  * \n",
            "\n",
            " *  *  *  *  *  *  *  *  *  *  * \n",
            "\n",
            "\n"
          ]
        }
      ],
      "source": [
        "string = \"\"\n",
        "\n",
        "x = int(input(\"Masukkan angka :\"))\n",
        "bar = x\n",
        "\n",
        "# Looping Baris\n",
        "while bar >= 0:\n",
        "\n",
        "\t# Looping Kolom Spasi Kosong\n",
        "\tkol = bar\n",
        "\twhile kol > 0:\n",
        "\t\tstring = string + \"   \"\n",
        "\t\tkol = kol - 1\n",
        "\n",
        "\t# Looping Kolom Bintang Sisi Kiri\n",
        "\tkiri = 1\n",
        "\twhile kiri < (x - (bar-1)):\n",
        "\t\tstring = string + \" * \"\n",
        "\t\tkiri = kiri + 1\n",
        "\n",
        "\t# Looping Kolom Bintang Sisi Kanan\n",
        "\tkanan = 1\n",
        "\twhile kanan < kiri -1:\n",
        "\t\tstring = string + \" * \"\n",
        "\t\tkanan = kanan + 1\n",
        "\n",
        "\tstring = string + \"\\n\\n\"\n",
        "\tbar = bar - 1\n",
        "\n",
        "print (string)"
      ]
    },
    {
      "cell_type": "code",
      "source": [
        "operasi = input()\n",
        "hasil = eval(operasi)\n",
        "print(hasil)"
      ],
      "metadata": {
        "colab": {
          "base_uri": "https://localhost:8080/"
        },
        "id": "NW3XBWpPW3sm",
        "outputId": "90ea99b4-42f3-41e8-f413-3a95baf44bd5"
      },
      "execution_count": 2,
      "outputs": [
        {
          "output_type": "stream",
          "name": "stdout",
          "text": [
            "2\n",
            "2\n"
          ]
        }
      ]
    },
    {
      "cell_type": "code",
      "source": [
        "r = float(input())\n",
        "pi = 3.14\n",
        "luas = pi * (r ** 2)\n",
        "print(\"{:.2f}\".format(luas))"
      ],
      "metadata": {
        "colab": {
          "base_uri": "https://localhost:8080/"
        },
        "id": "fI_l_NmOW8Yy",
        "outputId": "61ab0b5c-7710-4ac3-e487-a942f733d0cd"
      },
      "execution_count": 3,
      "outputs": [
        {
          "output_type": "stream",
          "name": "stdout",
          "text": [
            "4\n",
            "50.24\n"
          ]
        }
      ]
    },
    {
      "cell_type": "code",
      "source": [
        "t, b, u = map(int, input().split())\n",
        "\n",
        "if t > 170 and b > 55 and u >= 15:\n",
        "    print(\"Lolos\")\n",
        "else:\n",
        "    print(\"Tidak Lolos\")"
      ],
      "metadata": {
        "colab": {
          "base_uri": "https://localhost:8080/"
        },
        "id": "pZYonxsiXBVg",
        "outputId": "dcd1f108-024e-41e7-ed61-eebb298737a7"
      },
      "execution_count": 5,
      "outputs": [
        {
          "output_type": "stream",
          "name": "stdout",
          "text": [
            "4 5 6\n",
            "Tidak Lolos\n"
          ]
        }
      ]
    },
    {
      "cell_type": "code",
      "source": [
        "N = int(input())\n",
        "\n",
        "for _ in range(N):\n",
        "    A, B = map(int, input().split())\n",
        "    if str(A) in str(B) and 2 * B > A ** 2:\n",
        "        print(\"Ya\")\n",
        "    else:\n",
        "        print(\"Tidak\")"
      ],
      "metadata": {
        "colab": {
          "base_uri": "https://localhost:8080/",
          "height": 290
        },
        "id": "oYVYtV5iho4d",
        "outputId": "d796ea22-d1d2-4630-8975-f94f2e258217"
      },
      "execution_count": 3,
      "outputs": [
        {
          "name": "stdout",
          "output_type": "stream",
          "text": [
            "6\n",
            "6\n"
          ]
        },
        {
          "output_type": "error",
          "ename": "ValueError",
          "evalue": "ignored",
          "traceback": [
            "\u001b[0;31m---------------------------------------------------------------------------\u001b[0m",
            "\u001b[0;31mValueError\u001b[0m                                Traceback (most recent call last)",
            "\u001b[0;32m<ipython-input-3-686b568106a0>\u001b[0m in \u001b[0;36m<cell line: 3>\u001b[0;34m()\u001b[0m\n\u001b[1;32m      2\u001b[0m \u001b[0;34m\u001b[0m\u001b[0m\n\u001b[1;32m      3\u001b[0m \u001b[0;32mfor\u001b[0m \u001b[0m_\u001b[0m \u001b[0;32min\u001b[0m \u001b[0mrange\u001b[0m\u001b[0;34m(\u001b[0m\u001b[0mN\u001b[0m\u001b[0;34m)\u001b[0m\u001b[0;34m:\u001b[0m\u001b[0;34m\u001b[0m\u001b[0;34m\u001b[0m\u001b[0m\n\u001b[0;32m----> 4\u001b[0;31m     \u001b[0mA\u001b[0m\u001b[0;34m,\u001b[0m \u001b[0mB\u001b[0m \u001b[0;34m=\u001b[0m \u001b[0mmap\u001b[0m\u001b[0;34m(\u001b[0m\u001b[0mint\u001b[0m\u001b[0;34m,\u001b[0m \u001b[0minput\u001b[0m\u001b[0;34m(\u001b[0m\u001b[0;34m)\u001b[0m\u001b[0;34m.\u001b[0m\u001b[0msplit\u001b[0m\u001b[0;34m(\u001b[0m\u001b[0;34m)\u001b[0m\u001b[0;34m)\u001b[0m\u001b[0;34m\u001b[0m\u001b[0;34m\u001b[0m\u001b[0m\n\u001b[0m\u001b[1;32m      5\u001b[0m     \u001b[0;32mif\u001b[0m \u001b[0mstr\u001b[0m\u001b[0;34m(\u001b[0m\u001b[0mA\u001b[0m\u001b[0;34m)\u001b[0m \u001b[0;32min\u001b[0m \u001b[0mstr\u001b[0m\u001b[0;34m(\u001b[0m\u001b[0mB\u001b[0m\u001b[0;34m)\u001b[0m \u001b[0;32mand\u001b[0m \u001b[0;36m2\u001b[0m \u001b[0;34m*\u001b[0m \u001b[0mB\u001b[0m \u001b[0;34m>\u001b[0m \u001b[0mA\u001b[0m \u001b[0;34m**\u001b[0m \u001b[0;36m2\u001b[0m\u001b[0;34m:\u001b[0m\u001b[0;34m\u001b[0m\u001b[0;34m\u001b[0m\u001b[0m\n\u001b[1;32m      6\u001b[0m         \u001b[0mprint\u001b[0m\u001b[0;34m(\u001b[0m\u001b[0;34m\"Ya\"\u001b[0m\u001b[0;34m)\u001b[0m\u001b[0;34m\u001b[0m\u001b[0;34m\u001b[0m\u001b[0m\n",
            "\u001b[0;31mValueError\u001b[0m: not enough values to unpack (expected 2, got 1)"
          ]
        }
      ]
    }
  ]
}